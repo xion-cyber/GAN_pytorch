import os
import sys
import numpy as np
import torch
import torch.nn as nn
import torch.backends.cudnn as cudnn
import torch.optim as optim
import torchvision.transforms as transforms
import torchvision.datasets as datasets
import torchvision.utils as utils
import matplotlib.pyplot as plt
from tqdm import tqdm
import torch.nn.functional as F
from math import log2


DEVICE = "cuda" if torch.cuda.is_available() else "cpu"

START_TRAIN_IMG_SIZE = 16
DATASET = "./data/anime-faces"

CHECKPOINT_GEN = "./models/PGGAN_generator.pth"
CHECKPOINT_DIS = "./models/PGGAN_discriminator.pth"
SAVE_MODEL = True
LOAD_MODEL = False

LR = 1e-4
BATCH_SIZES = [32, 32, 32, 32, 16, 16, 16, 4, 4, 4]
IMAGE_SIZE = 128
IMG_CHANNELS = 3
Z_DIM = 256
IN_CHANNELS = 256
LAMBDA_GP = 10
NUM_STEPS = int(log2(IMAGE_SIZE/4)) + 1

PROGRESSIVE_EPOCHS = [4] * len(BATCH_SIZES)
FIXED_NOISE = torch.randn(8, Z_DIM, 1, 1).to(DEVICE)
NUM_WORKERs = 2


dataset = datasets(
    root='./data/anime-faces', 
    transforom=transforms([
        transforms.Resize((IMAGE_SIZE, IMAGE_SIZE)),
        transforms.ToTensor(),
        transforms.RandomHorizontalFlip(p=0.5),
        transforms.Normalize([0.5, 0.5, 0.5], [0.5, 0.5, 0.5])
    ])
)


log2(START_TRAIN_IMG_SIZE/4)



